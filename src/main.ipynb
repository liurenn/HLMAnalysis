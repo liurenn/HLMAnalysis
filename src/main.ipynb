{
 "cells": [
  {
   "cell_type": "markdown",
   "metadata": {},
   "source": [
    "`clear_cache`用来清除中间生成的文档"
   ]
  },
  {
   "cell_type": "code",
   "execution_count": null,
   "metadata": {},
   "outputs": [],
   "source": [
    "from utils.io_file import clear_cache"
   ]
  },
  {
   "cell_type": "markdown",
   "metadata": {},
   "source": [
    "用来保存中间文档，分句、分词"
   ]
  },
  {
   "cell_type": "code",
   "execution_count": null,
   "metadata": {},
   "outputs": [],
   "source": [
    "from preprocess.sentence import save_splited_sentence\n",
    "from preprocess.vocabulary import save_parsed_words"
   ]
  },
  {
   "cell_type": "markdown",
   "metadata": {},
   "source": [
    "不同的特征提取"
   ]
  },
  {
   "cell_type": "code",
   "execution_count": null,
   "metadata": {},
   "outputs": [],
   "source": [
    "from model.feature import extract_feature_from_text"
   ]
  },
  {
   "cell_type": "markdown",
   "metadata": {},
   "source": [
    "分类算法"
   ]
  },
  {
   "cell_type": "code",
   "execution_count": null,
   "metadata": {},
   "outputs": [],
   "source": [
    "from model.subclass.SupportVM import SVM_classifier\n",
    "from model.subclass.GaussianNB import GNB_classifier\n",
    "from model.subclass.MLPerceptron import MLP_classifier\n",
    "from model.subclass.StochasticGD import SGD_classifier\n",
    "from model.subclass.LinearDA import LDA_classifier\n",
    "from model.subclass.DecisionTree import DTree_classifier\n",
    "from model.subclass.KNearest import KN_classifier"
   ]
  },
  {
   "cell_type": "markdown",
   "metadata": {},
   "source": [
    "分句子与分词，中间结果保存在`data/sent`与`data/jieba`"
   ]
  },
  {
   "cell_type": "code",
   "execution_count": null,
   "metadata": {},
   "outputs": [],
   "source": [
    "save_splited_sentence()\n",
    "save_parsed_words('jieba')"
   ]
  },
  {
   "cell_type": "markdown",
   "metadata": {},
   "source": [
    "提取全书120回合每一回的特征向量，保存在矩阵`matrix120`中"
   ]
  },
  {
   "cell_type": "code",
   "execution_count": null,
   "metadata": {},
   "outputs": [],
   "source": [
    "matrix120 = [\n",
    "    extract_feature_from_text('bag of words', ['jieba']),\n",
    "    extract_feature_from_text('sentence length', []),\n",
    "]"
   ]
  },
  {
   "cell_type": "markdown",
   "metadata": {},
   "source": [
    "准备分类器"
   ]
  },
  {
   "cell_type": "code",
   "execution_count": null,
   "metadata": {},
   "outputs": [],
   "source": [
    "classifier_lst = [\n",
    "    SVM_classifier(),\n",
    "    GNB_classifier(),\n",
    "    MLP_classifier(['lbfgs', 1e-5, (256, 64, 64, 8, 2), 1]),\n",
    "    SGD_classifier([\"hinge\", \"l2\"]),\n",
    "    LDA_classifier(),\n",
    "    DTree_classifier(),\n",
    "    KN_classifier([20])\n",
    "]"
   ]
  },
  {
   "cell_type": "markdown",
   "metadata": {},
   "source": [
    "对每一个特征矩阵、每一个分类器进行训练、测试、汇报"
   ]
  },
  {
   "cell_type": "code",
   "execution_count": null,
   "metadata": {},
   "outputs": [],
   "source": [
    "for m in matrix120:\n",
    "    for c in classifier_lst:\n",
    "        c.read(m)\n",
    "        c.train()\n",
    "        c.predict()\n",
    "        c.report()"
   ]
  }
 ],
 "metadata": {
  "kernelspec": {
   "display_name": "Python 3",
   "language": "python",
   "name": "python3"
  },
  "language_info": {
   "codemirror_mode": {
    "name": "ipython",
    "version": 3
   },
   "file_extension": ".py",
   "mimetype": "text/x-python",
   "name": "python",
   "nbconvert_exporter": "python",
   "pygments_lexer": "ipython3",
   "version": "3.5.2"
  }
 },
 "nbformat": 4,
 "nbformat_minor": 1
}
