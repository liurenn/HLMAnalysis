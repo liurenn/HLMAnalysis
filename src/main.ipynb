{
 "cells": [
  {
   "cell_type": "code",
   "execution_count": 1,
   "metadata": {
    "scrolled": true
   },
   "outputs": [],
   "source": [
    "from preprocess.sentence import build_sentence_split\n",
    "from preprocess.vocabulary import build_vocabulary_split"
   ]
  },
  {
   "cell_type": "markdown",
   "metadata": {},
   "source": [
    "# Preprocessing"
   ]
  },
  {
   "cell_type": "code",
   "execution_count": 2,
   "metadata": {},
   "outputs": [
    {
     "name": "stdout",
     "output_type": "stream",
     "text": [
      "Sentence split files already saved\n"
     ]
    }
   ],
   "source": [
    "build_sentence_split()"
   ]
  },
  {
   "cell_type": "markdown",
   "metadata": {},
   "source": [
    "# Index"
   ]
  },
  {
   "cell_type": "code",
   "execution_count": 3,
   "metadata": {
    "scrolled": true
   },
   "outputs": [
    {
     "name": "stdout",
     "output_type": "stream",
     "text": [
      "False read text name! Enter:\n",
      "\t sent-80 /home/yangminz/FudanCourse/undergraduate4/自然语言处理/project/data/sent-80.txt\n",
      "\t sent-40 /home/yangminz/FudanCourse/undergraduate4/自然语言处理/project/data/sent-40.txt\n",
      "False read text name! Enter:\n",
      "\t sent-80 /home/yangminz/FudanCourse/undergraduate4/自然语言处理/project/data/sent-80.txt\n",
      "\t sent-40 /home/yangminz/FudanCourse/undergraduate4/自然语言处理/project/data/sent-40.txt\n"
     ]
    }
   ],
   "source": [
    "build_vocabulary_split('suffix-tree')"
   ]
  },
  {
   "cell_type": "code",
   "execution_count": null,
   "metadata": {},
   "outputs": [],
   "source": [
    ""
   ]
  }
 ],
 "metadata": {
  "kernelspec": {
   "display_name": "Python 3",
   "language": "python",
   "name": "python3"
  },
  "language_info": {
   "codemirror_mode": {
    "name": "ipython",
    "version": 3.0
   },
   "file_extension": ".py",
   "mimetype": "text/x-python",
   "name": "python",
   "nbconvert_exporter": "python",
   "pygments_lexer": "ipython3",
   "version": "3.5.2"
  }
 },
 "nbformat": 4,
 "nbformat_minor": 0
}